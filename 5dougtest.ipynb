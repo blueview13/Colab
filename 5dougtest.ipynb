{
  "nbformat": 4,
  "nbformat_minor": 0,
  "metadata": {
    "colab": {
      "provenance": [],
      "name": "5dougtest.ipynb",
      "authorship_tag": "ABX9TyOxIlfzAMgIAr3BQLn5a1B6",
      "include_colab_link": true
    },
    "kernelspec": {
      "name": "python3",
      "display_name": "Python 3"
    },
    "language_info": {
      "name": "python"
    },
    "widgets": {
      "application/vnd.jupyter.widget-state+json": {
        "73b8d826a4ce4f6abc3e02ba95b80d27": {
          "model_module": "@jupyter-widgets/controls",
          "model_name": "IntSliderModel",
          "model_module_version": "1.5.0",
          "state": {
            "_dom_classes": [],
            "_model_module": "@jupyter-widgets/controls",
            "_model_module_version": "1.5.0",
            "_model_name": "IntSliderModel",
            "_view_count": null,
            "_view_module": "@jupyter-widgets/controls",
            "_view_module_version": "1.5.0",
            "_view_name": "IntSliderView",
            "continuous_update": false,
            "description": "Slider:",
            "description_tooltip": null,
            "disabled": false,
            "layout": "IPY_MODEL_32cb42d0426e47d08f2f3caf06058965",
            "max": 100,
            "min": 0,
            "orientation": "horizontal",
            "readout": true,
            "readout_format": "d",
            "step": 1,
            "style": "IPY_MODEL_adc5221c4b1f48d28a8ba31b12bbde6b",
            "value": 43
          }
        },
        "32cb42d0426e47d08f2f3caf06058965": {
          "model_module": "@jupyter-widgets/base",
          "model_name": "LayoutModel",
          "model_module_version": "1.2.0",
          "state": {
            "_model_module": "@jupyter-widgets/base",
            "_model_module_version": "1.2.0",
            "_model_name": "LayoutModel",
            "_view_count": null,
            "_view_module": "@jupyter-widgets/base",
            "_view_module_version": "1.2.0",
            "_view_name": "LayoutView",
            "align_content": null,
            "align_items": null,
            "align_self": null,
            "border": null,
            "bottom": null,
            "display": null,
            "flex": null,
            "flex_flow": null,
            "grid_area": null,
            "grid_auto_columns": null,
            "grid_auto_flow": null,
            "grid_auto_rows": null,
            "grid_column": null,
            "grid_gap": null,
            "grid_row": null,
            "grid_template_areas": null,
            "grid_template_columns": null,
            "grid_template_rows": null,
            "height": null,
            "justify_content": null,
            "justify_items": null,
            "left": null,
            "margin": null,
            "max_height": null,
            "max_width": null,
            "min_height": null,
            "min_width": null,
            "object_fit": null,
            "object_position": null,
            "order": null,
            "overflow": null,
            "overflow_x": null,
            "overflow_y": null,
            "padding": null,
            "right": null,
            "top": null,
            "visibility": null,
            "width": null
          }
        },
        "adc5221c4b1f48d28a8ba31b12bbde6b": {
          "model_module": "@jupyter-widgets/controls",
          "model_name": "SliderStyleModel",
          "model_module_version": "1.5.0",
          "state": {
            "_model_module": "@jupyter-widgets/controls",
            "_model_module_version": "1.5.0",
            "_model_name": "SliderStyleModel",
            "_view_count": null,
            "_view_module": "@jupyter-widgets/base",
            "_view_module_version": "1.2.0",
            "_view_name": "StyleView",
            "description_width": "",
            "handle_color": null
          }
        }
      }
    }
  },
  "cells": [
    {
      "cell_type": "markdown",
      "metadata": {
        "id": "view-in-github",
        "colab_type": "text"
      },
      "source": [
        "<a href=\"https://colab.research.google.com/github/blueview13/Colab/blob/main/5dougtest.ipynb\" target=\"_parent\"><img src=\"https://colab.research.google.com/assets/colab-badge.svg\" alt=\"Open In Colab\"/></a>"
      ]
    },
    {
      "cell_type": "code",
      "execution_count": null,
      "metadata": {
        "colab": {
          "base_uri": "https://localhost:8080/"
        },
        "id": "NCYol7rAJ_eg",
        "outputId": "de65f4d0-a2af-4b20-fc6f-f69ed2c0d167"
      },
      "outputs": [
        {
          "output_type": "stream",
          "name": "stdout",
          "text": [
            "hello world\n"
          ]
        }
      ],
      "source": [
        "print(\"hello world\")"
      ]
    },
    {
      "cell_type": "code",
      "source": [
        "# prompt: a slider using jpyter widgets\n",
        "\n",
        "import ipywidgets as widgets\n",
        "from IPython.display import display\n",
        "\n",
        "# Create a slider widget\n",
        "slider = widgets.IntSlider(\n",
        "    value=50,  # Initial value\n",
        "    min=0,  # Minimum value\n",
        "    max=100,  # Maximum value\n",
        "    step=1,  # Increment step\n",
        "    description='Slider:',  # Label for the slider\n",
        "    disabled=False,  # Enable or disable the slider\n",
        "    continuous_update=False,  # Update on mouse release, not continuously\n",
        "    orientation='horizontal',  # Orientation of the slider\n",
        "    readout=True,  # Display the current value\n",
        "    readout_format='d'  # Format of the displayed value\n",
        ")\n",
        "\n",
        "# Display the slider\n",
        "display(slider)\n",
        "\n",
        "# You can access the current value of the slider using slider.value\n",
        "print(f\"Current slider value: {slider.value}\")\n"
      ],
      "metadata": {
        "id": "nqtqglpxOnXX",
        "outputId": "f0022617-a5e4-4405-9b3c-4dd46efad4f2",
        "colab": {
          "base_uri": "https://localhost:8080/",
          "height": 67,
          "referenced_widgets": [
            "73b8d826a4ce4f6abc3e02ba95b80d27",
            "32cb42d0426e47d08f2f3caf06058965",
            "adc5221c4b1f48d28a8ba31b12bbde6b"
          ]
        }
      },
      "execution_count": 1,
      "outputs": [
        {
          "output_type": "display_data",
          "data": {
            "text/plain": [
              "IntSlider(value=50, continuous_update=False, description='Slider:')"
            ],
            "application/vnd.jupyter.widget-view+json": {
              "version_major": 2,
              "version_minor": 0,
              "model_id": "73b8d826a4ce4f6abc3e02ba95b80d27"
            }
          },
          "metadata": {}
        },
        {
          "output_type": "stream",
          "name": "stdout",
          "text": [
            "Current slider value: 50\n"
          ]
        }
      ]
    }
  ]
}